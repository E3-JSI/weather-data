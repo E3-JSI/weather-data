{
 "cells": [
  {
   "cell_type": "markdown",
   "metadata": {},
   "source": [
    "### Using Weather Extractor"
   ]
  },
  {
   "cell_type": "code",
   "execution_count": 1,
   "metadata": {},
   "outputs": [],
   "source": [
    "from datetime import date\n",
    "from weather.weather import WeatherExtractor"
   ]
  },
  {
   "cell_type": "code",
   "execution_count": 2,
   "metadata": {},
   "outputs": [],
   "source": [
    "we = WeatherExtractor()"
   ]
  },
  {
   "cell_type": "code",
   "execution_count": 3,
   "metadata": {},
   "outputs": [],
   "source": [
    "we.load('weather/data/jan2015-feb2015.grib')"
   ]
  },
  {
   "cell_type": "code",
   "execution_count": 4,
   "metadata": {},
   "outputs": [],
   "source": [
    "# get actual weather for 2015-1-10, 2015-1-11 and 2015-1-12 and do aggregation by region\n",
    "weather_result = we.get_actual(from_date=date(\n",
    "    2015, 1, 10), to_date=date(2015, 1, 12), aggtime='day', aggloc='region')"
   ]
  },
  {
   "cell_type": "code",
   "execution_count": 6,
   "metadata": {},
   "outputs": [
    {
     "name": "stdout",
     "output_type": "stream",
     "text": [
      "  validDateTime validityDateTime shortName  \\\n",
      "0    2015-01-10       2015-01-10     10fg6   \n",
      "1    2015-01-10       2015-01-10        2t   \n",
      "2    2015-01-10       2015-01-10       cbh   \n",
      "3    2015-01-10       2015-01-10     mn2t6   \n",
      "4    2015-01-10       2015-01-10     mx2t6   \n",
      "\n",
      "                                                lats  \\\n",
      "0  [45.8958, 46.2447, 45.5603, 46.3794, 45.8936, ...   \n",
      "1  [45.8958, 46.2447, 45.5603, 46.3794, 45.8936, ...   \n",
      "2  [45.8958, 46.2447, 45.5603, 46.3794, 45.8936, ...   \n",
      "3  [45.8958, 46.2447, 45.5603, 46.3794, 45.8936, ...   \n",
      "4  [45.8958, 46.2447, 45.5603, 46.3794, 45.8936, ...   \n",
      "\n",
      "                                                lons  \\\n",
      "0  [13.6289, 15.2525, 15.1508, 13.8539, 15.525, 1...   \n",
      "1  [13.6289, 15.2525, 15.1508, 13.8539, 15.525, 1...   \n",
      "2  [13.6289, 15.2525, 15.1508, 13.8539, 15.525, 1...   \n",
      "3  [13.6289, 15.2525, 15.1508, 13.8539, 15.525, 1...   \n",
      "4  [13.6289, 15.2525, 15.1508, 13.8539, 15.525, 1...   \n",
      "\n",
      "                                              values  \n",
      "0  [5.65561914444, 8.3080239296, 5.91471338272, 1...  \n",
      "1  [277.304268973, 278.085135324, 279.246442522, ...  \n",
      "2  [40.765058245, 4890.15791539, 3285.2472011, 11...  \n",
      "3  [207.625732422, 207.150512695, 207.63067627, 2...  \n",
      "4  [208.307739258, 209.87713623, 212.480224609, 2...  \n"
     ]
    }
   ],
   "source": [
    "# result is stored in pandas.DataFrame\n",
    "print weather_result.head()"
   ]
  },
  {
   "cell_type": "code",
   "execution_count": null,
   "metadata": {},
   "outputs": [],
   "source": []
  }
 ],
 "metadata": {
  "kernelspec": {
   "display_name": "Python 2",
   "language": "python",
   "name": "python2"
  },
  "language_info": {
   "codemirror_mode": {
    "name": "ipython",
    "version": 2
   },
   "file_extension": ".py",
   "mimetype": "text/x-python",
   "name": "python",
   "nbconvert_exporter": "python",
   "pygments_lexer": "ipython2",
   "version": "2.7.12"
  }
 },
 "nbformat": 4,
 "nbformat_minor": 2
}
