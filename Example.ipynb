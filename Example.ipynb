{
 "cells": [
  {
   "cell_type": "markdown",
   "metadata": {},
   "source": [
    "# Download and transformation example"
   ]
  },
  {
   "cell_type": "markdown",
   "metadata": {},
   "source": [
    "Weather API can be used for downloading raw data (in grib format) from ECMWF MARS archive, for querying the data and for transforming the data to other formats (csv)."
   ]
  },
  {
   "cell_type": "markdown",
   "metadata": {},
   "source": [
    "### Downloading example"
   ]
  },
  {
   "cell_type": "code",
   "execution_count": 3,
   "metadata": {},
   "outputs": [],
   "source": [
    "from datetime import date\n",
    "from weather.weather import WeatherApi"
   ]
  },
  {
   "cell_type": "markdown",
   "metadata": {},
   "source": [
    "The following query downloads all weather data for Slovenia for a period from 1st of november 2017 to 30 of november 2017 and stores the result to file ***nov2017.grib***"
   ]
  },
  {
   "cell_type": "raw",
   "metadata": {},
   "source": [
    "wa = WeatherApi()\n",
    "\n",
    "# download data for november 2017\n",
    "wa.get(from_date=date(2017, 11, 1), to_date=date(2017, 11, 30),\n",
    "       target='nov2017.grib')"
   ]
  },
  {
   "cell_type": "markdown",
   "metadata": {},
   "source": [
    "### Querying example"
   ]
  },
  {
   "cell_type": "markdown",
   "metadata": {},
   "source": [
    "Once the data is downloaded we can query it from python script or transform it to ***.tsv*** format which is then further imported to QMiner database."
   ]
  },
  {
   "cell_type": "code",
   "execution_count": 6,
   "metadata": {},
   "outputs": [],
   "source": [
    "we = WeatherExtractor()"
   ]
  },
  {
   "cell_type": "code",
   "execution_count": 7,
   "metadata": {},
   "outputs": [
    {
     "name": "stdout",
     "output_type": "stream",
     "text": [
      "Extending parameters...\n"
     ]
    }
   ],
   "source": [
    "we.load(['nov2017.grib'])"
   ]
  },
  {
   "cell_type": "markdown",
   "metadata": {},
   "source": [
    "Example of forecast query on loaded data:"
   ]
  },
  {
   "cell_type": "code",
   "execution_count": 8,
   "metadata": {},
   "outputs": [],
   "source": [
    "\"\"\" Get forecasted data from 1-11-2017 for 2-11-2017, 3-11-2017 and 4-11-2017 for all grid points. \"\"\"\n",
    "weather_data = we.get_forecast(base_date=date(2017, 11, 1), from_date=date(\n",
    "    2017, 11, 2), to_date=date(2017, 11, 4), aggtime='hour', aggloc='grid')"
   ]
  },
  {
   "cell_type": "code",
   "execution_count": 9,
   "metadata": {},
   "outputs": [
    {
     "name": "stdout",
     "output_type": "stream",
     "text": [
      "                                                lats  \\\n",
      "0  [46.75, 46.75, 46.75, 46.75, 46.75, 46.75, 46....   \n",
      "1  [46.75, 46.75, 46.75, 46.75, 46.75, 46.75, 46....   \n",
      "2  [46.75, 46.75, 46.75, 46.75, 46.75, 46.75, 46....   \n",
      "3  [46.75, 46.75, 46.75, 46.75, 46.75, 46.75, 46....   \n",
      "4  [46.75, 46.75, 46.75, 46.75, 46.75, 46.75, 46....   \n",
      "\n",
      "                                                lons shortName validDateTime  \\\n",
      "0  [13.0, 13.25, 13.5, 13.75, 14.0, 14.25, 14.5, ...        ws    2017-11-01   \n",
      "1  [13.0, 13.25, 13.5, 13.75, 14.0, 14.25, 14.5, ...        ws    2017-11-01   \n",
      "2  [13.0, 13.25, 13.5, 13.75, 14.0, 14.25, 14.5, ...        ws    2017-11-01   \n",
      "3  [13.0, 13.25, 13.5, 13.75, 14.0, 14.25, 14.5, ...       ssr    2017-11-01   \n",
      "4  [13.0, 13.25, 13.5, 13.75, 14.0, 14.25, 14.5, ...       tsr    2017-11-01   \n",
      "\n",
      "     validityDateTime                                             values  \n",
      "0 2017-11-02 06:00:00  [0.806057740141, 1.0224105452, 0.669537750352,...  \n",
      "1 2017-11-02 15:00:00  [0.985475972863, 1.29273651394, 1.13139695162,...  \n",
      "2 2017-11-02 00:00:00  [0.876981792898, 0.899239689772, 0.44066217014...  \n",
      "3 2017-11-04 15:00:00  [30075920.0, 27532304.0, 26074640.0, 24485904....  \n",
      "4 2017-11-04 15:00:00  [42787296.0, 40550112.0, 39153888.0, 37626848....  \n"
     ]
    }
   ],
   "source": [
    "print weather_data[:5]"
   ]
  },
  {
   "cell_type": "markdown",
   "metadata": {},
   "source": [
    "We can also query the weather data for a specific point:"
   ]
  },
  {
   "cell_type": "code",
   "execution_count": 11,
   "metadata": {},
   "outputs": [],
   "source": [
    "\"\"\" Get actual weather data for 2-11-2017, 3-11-2017 and 4-11-2017 for \n",
    "a specific points with latitude and longitude: (45.01, 13.00)\"\"\"\n",
    "points = [{'lat': 45.01, 'lon': 13.0}]\n",
    "weather_data = we.get_actual(from_date=date(\n",
    "    2017, 11, 2), to_date=date(2017, 11, 4), aggtime='hour', aggloc='points', interp_points=points)\n"
   ]
  },
  {
   "cell_type": "code",
   "execution_count": 12,
   "metadata": {},
   "outputs": [
    {
     "name": "stdout",
     "output_type": "stream",
     "text": [
      "      lats    lons shortName validDateTime    validityDateTime  \\\n",
      "0  [45.01]  [13.0]        ws    2017-11-02 2017-11-02 06:00:00   \n",
      "1  [45.01]  [13.0]        ws    2017-11-02 2017-11-02 12:00:00   \n",
      "2  [45.01]  [13.0]        ws    2017-11-02 2017-11-02 15:00:00   \n",
      "3  [45.01]  [13.0]        rh    2017-11-02 2017-11-02 00:00:00   \n",
      "4  [45.01]  [13.0]        ws    2017-11-02 2017-11-02 21:00:00   \n",
      "\n",
      "            values  \n",
      "0  [1.21621804233]  \n",
      "1   [2.3055878063]  \n",
      "2  [3.75324087267]  \n",
      "3  [68.8316434161]  \n",
      "4  [4.48096915525]  \n"
     ]
    }
   ],
   "source": [
    "print weather_data[:5]"
   ]
  },
  {
   "cell_type": "markdown",
   "metadata": {},
   "source": [
    "### Transformation example"
   ]
  },
  {
   "cell_type": "markdown",
   "metadata": {},
   "source": [
    "Our analytics will be poweder by the QMiner platform. In order to use weather data with QMiner we first have to \n",
    "export it as a ***.tsv*** file which can later be imported in QMiner database."
   ]
  },
  {
   "cell_type": "code",
   "execution_count": 13,
   "metadata": {},
   "outputs": [],
   "source": [
    "from weather.weather import WeatherExtractor"
   ]
  },
  {
   "cell_type": "code",
   "execution_count": 14,
   "metadata": {},
   "outputs": [],
   "source": [
    "we = WeatherExtractor()"
   ]
  },
  {
   "cell_type": "code",
   "execution_count": 15,
   "metadata": {},
   "outputs": [
    {
     "name": "stdout",
     "output_type": "stream",
     "text": [
      "Extending parameters...\n"
     ]
    }
   ],
   "source": [
    "we.load(['nov2017.grib'])"
   ]
  },
  {
   "cell_type": "raw",
   "metadata": {},
   "source": [
    "we.export('nov2017.tsv')"
   ]
  },
  {
   "cell_type": "code",
   "execution_count": null,
   "metadata": {},
   "outputs": [],
   "source": []
  }
 ],
 "metadata": {
  "kernelspec": {
   "display_name": "Python 2",
   "language": "python",
   "name": "python2"
  },
  "language_info": {
   "codemirror_mode": {
    "name": "ipython",
    "version": 2
   },
   "file_extension": ".py",
   "mimetype": "text/x-python",
   "name": "python",
   "nbconvert_exporter": "python",
   "pygments_lexer": "ipython2",
   "version": "2.7.12"
  }
 },
 "nbformat": 4,
 "nbformat_minor": 2
}
