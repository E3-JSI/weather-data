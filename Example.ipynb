{
 "cells": [
  {
   "cell_type": "markdown",
   "metadata": {},
   "source": [
    "# Using the weather-data package"
   ]
  },
  {
   "cell_type": "markdown",
   "metadata": {},
   "source": [
    "The package supports downloading weather data from two sources:\n",
    "* data in grib format from ECMWF MARS archive, \n",
    "* data in json format from [OpenWeatherMaps](https://openweathermap.org/) API.\n",
    "\n",
    "Once downloaded, the data can be transformed and stored in other formats (csv)."
   ]
  },
  {
   "cell_type": "markdown",
   "metadata": {},
   "source": [
    "## 1. Installation"
   ]
  },
  {
   "cell_type": "markdown",
   "metadata": {},
   "source": [
    "Instructions can be found on the project's [wiki](https://github.com/JozefStefanInstitute/weather-data/wiki)."
   ]
  },
  {
   "cell_type": "markdown",
   "metadata": {},
   "source": [
    "## 2. Download"
   ]
  },
  {
   "cell_type": "markdown",
   "metadata": {},
   "source": [
    "Weather data can be downloaded from two different sources using the **WeatherApi** class.\n",
    "\n",
    "The source is selected when creating the instance of **WeatherApi** (see example below) via 'source' arguments as:\n",
    "* source='ecmfw' to download data from ECMWF or\n",
    "* source='owm' to download data from Open Weather Map."
   ]
  },
  {
   "cell_type": "markdown",
   "metadata": {},
   "source": [
    "## 2.1. API key credentials"
   ]
  },
  {
   "cell_type": "markdown",
   "metadata": {},
   "source": [
    "#### ECMWF"
   ]
  },
  {
   "cell_type": "markdown",
   "metadata": {},
   "source": [
    "There are several possible ways to pass your ECMWF API key credentials.\n",
    "1. You can store the credentials in a file - ***$HOME/.ecmwfapirc*** containing:\n",
    "\n",
    "````json\n",
    "{\n",
    "  \"url\": \"https://api.ecmwf.int/v1\",\n",
    "  \"email\": \"<api_email>\",\n",
    "  \"key\": \"<api_key>\"\n",
    "}\n",
    "```\n",
    "2. Or you can export the following environment variables:\n",
    "    * export ECMWF_API_URL=\"https://api.ecmwf.int/v1\"\n",
    "    * export ECMWF_API_KEY=\"<api_key>\"\n",
    "    * export ECMWF_API_EMAIL=\"<api_email>\"\n",
    "3. Or you can pass the credentials directly as arguments when creating WeatherApi instance:\n",
    "\n",
    "````python\n",
    "wa = WeatherApi(source='ecmwf', key='<api_key>', email='<api_email>')\n",
    "```"
   ]
  },
  {
   "cell_type": "markdown",
   "metadata": {},
   "source": [
    "#### OWM"
   ]
  },
  {
   "cell_type": "markdown",
   "metadata": {},
   "source": [
    "You can pass your OWM API key credentials as arguments when creating WeatherApi instance:\n",
    "\n",
    "````python\n",
    "wa = WeatherApi(source='owm', key='<api_key>')\n",
    "```"
   ]
  },
  {
   "cell_type": "markdown",
   "metadata": {},
   "source": [
    "## 2.2. Downloading the data"
   ]
  },
  {
   "cell_type": "code",
   "execution_count": null,
   "metadata": {},
   "outputs": [],
   "source": [
    "import datetime\n",
    "from weather.weather import WeatherApi"
   ]
  },
  {
   "cell_type": "markdown",
   "metadata": {},
   "source": [
    "#### ECMWF"
   ]
  },
  {
   "cell_type": "markdown",
   "metadata": {},
   "source": [
    "There are multiple arguments that can be specified when downloading the ECMWF data."
   ]
  },
  {
   "cell_type": "code",
   "execution_count": null,
   "metadata": {},
   "outputs": [],
   "source": [
    "wa = WeatherApi(source='ecmwf')\n",
    "\n",
    "# Download weather forecast for July 2019 for Slovenia region\n",
    "wa.get(from_date=datetime.date(2019, 7, 1), to_date=datetime.date(2019, 7, 31), \n",
    "       target='ecmwf-slovenia-july2019.grib', area=[46.53, 13.23, 45.25, 16.36])"
   ]
  },
  {
   "cell_type": "markdown",
   "metadata": {},
   "source": [
    "#### Open Weather Map"
   ]
  },
  {
   "cell_type": "markdown",
   "metadata": {},
   "source": [
    "The free version of OWM Api only provides current 5 day forecast for any location or city which includes weather data every 3 hours. The data is returned in **JSON** format.\n",
    "\n",
    "One of following arguments needs to be specified on query:\n",
    "* 'city_name' - city name and country code divided by comma, use ISO 3166 country codes\n",
    "* 'city_id' - list of city ID city.list.json.gz can be downloaded from [OWM page](http://bulk.openweathermap.org/sample/)\n",
    "* 'latlon' - lat, lon coordinates of the location of your interest \n",
    "\n",
    "More information about these fields can be found [here](https://openweathermap.org/forecast5)."
   ]
  },
  {
   "cell_type": "code",
   "execution_count": null,
   "metadata": {},
   "outputs": [],
   "source": [
    "wa = WeatherApi(source='owm', api_key='2505b0ea15819fa575b8959799dd649f')\n",
    "\n",
    "# By city name\n",
    "wa.get(city_name='Ljubljana,si', target='owm-forecast-ljubljana.json') \n",
    "\n",
    "# By city id\n",
    "wa.get(city_id=3196359, target='owm-forecast-ljubljana.json')\n",
    "\n",
    "# By coordinates\n",
    "wa.get(latlon=(46.0511, 14.5051), target='owm-forecast-ljubljana.json')"
   ]
  },
  {
   "cell_type": "markdown",
   "metadata": {},
   "source": [
    "## 3. Query and Transform"
   ]
  },
  {
   "cell_type": "markdown",
   "metadata": {},
   "source": [
    "Once the data is downloaded we can query it or transform it to ***csv*** format which can be then further imported to QMiner database."
   ]
  },
  {
   "cell_type": "code",
   "execution_count": null,
   "metadata": {},
   "outputs": [],
   "source": [
    "from weather.weather import WeatherExtractor"
   ]
  },
  {
   "cell_type": "markdown",
   "metadata": {},
   "source": [
    "#### ECMWF"
   ]
  },
  {
   "cell_type": "markdown",
   "metadata": {},
   "source": [
    "If **eccodes** is installed then it is used as a default GRIB file decoder, otherwise **pygrib** is used if available."
   ]
  },
  {
   "cell_type": "code",
   "execution_count": null,
   "metadata": {},
   "outputs": [],
   "source": [
    "we = WeatherExtractor()\n",
    "we.load(['ecmwf-slovenia-july2019.grib'])"
   ]
  },
  {
   "cell_type": "markdown",
   "metadata": {},
   "source": [
    "Get forecast made on 1.7.2019 for 2.7.2019, 3.7.2019 and 4.7.2019, for all grid points:\n"
   ]
  },
  {
   "cell_type": "code",
   "execution_count": null,
   "metadata": {},
   "outputs": [],
   "source": [
    "weather_data = we.get_forecast(base_date=date(2019, 7, 1), from_date=date(\n",
    "    2019, 7, 2), to_date=date(2019, 7, 4), aggtime='hour', aggloc='grid')\n",
    "print(weather_data[:5])"
   ]
  },
  {
   "cell_type": "markdown",
   "metadata": {},
   "source": [
    "We can also query the weather data for a specific point:"
   ]
  },
  {
   "cell_type": "code",
   "execution_count": null,
   "metadata": {},
   "outputs": [],
   "source": [
    "points = [{'lat': 45.01, 'lon': 13.0}]\n",
    "weather_data = we.get_actual(from_date=date(\n",
    "    2019, 7, 2), to_date=date(2019, 7, 4), aggtime='hour', aggloc='points', interp_points=points)\n",
    "print weather_data[:5]"
   ]
  },
  {
   "cell_type": "markdown",
   "metadata": {},
   "source": [
    "In order to use weather data with QMiner we first have to export it as a ***.csv*** file which can later be imported in QMiner database."
   ]
  },
  {
   "cell_type": "code",
   "execution_count": null,
   "metadata": {},
   "outputs": [],
   "source": [
    "we.export('ecmwf-slovenia-july2019.tsv')"
   ]
  },
  {
   "cell_type": "markdown",
   "metadata": {},
   "source": [
    "#### OWM"
   ]
  },
  {
   "cell_type": "markdown",
   "metadata": {},
   "source": [
    "The same queries as with ECMWF can be used also in the OWN case.\n",
    "\n",
    "**Note**: Currently multiple forecast for only **one location** are supported - we cannot load forecasts from Ljubljana, SI and Rome, IT simultaneously. "
   ]
  },
  {
   "cell_type": "code",
   "execution_count": null,
   "metadata": {},
   "outputs": [],
   "source": [
    "we = WeatherExtractor()\n",
    "we.load(['owm-forecast-ljubljana.json'])"
   ]
  }
 ],
 "metadata": {
  "kernelspec": {
   "display_name": "Python 3",
   "language": "python",
   "name": "python3"
  },
  "language_info": {
   "codemirror_mode": {
    "name": "ipython",
    "version": 3
   },
   "file_extension": ".py",
   "mimetype": "text/x-python",
   "name": "python",
   "nbconvert_exporter": "python",
   "pygments_lexer": "ipython3",
   "version": "3.6.8"
  }
 },
 "nbformat": 4,
 "nbformat_minor": 2
}
